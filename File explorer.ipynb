{
 "cells": [
  {
   "cell_type": "code",
   "execution_count": 6,
   "metadata": {},
   "outputs": [],
   "source": [
    "import os\n",
    "import shutil\n",
    "import time\n",
    "\n",
    "def sort_files():\n",
    "    path = r\"E:/\"\n",
    "    folder_names = ['csv files', 'Image files', 'pdf files', 'word files']\n",
    "    file_names = os.listdir(path)\n",
    "\n",
    "    for folder_name in folder_names:\n",
    "        if not os.path.exists(os.path.join(path, folder_name)):\n",
    "            os.makedirs(os.path.join(path, folder_name))\n",
    "\n",
    "    for file in file_names:\n",
    "        if file.endswith(\".csv\"):\n",
    "            shutil.move(os.path.join(path, file), os.path.join(path, \"csv files\", file))\n",
    "        elif file.endswith(\".jpg\"):\n",
    "            shutil.move(os.path.join(path, file), os.path.join(path, \"Image files\", file))\n",
    "        elif file.endswith(\".pdf\"):\n",
    "            shutil.move(os.path.join(path, file), os.path.join(path, \"pdf files\", file))\n",
    "        elif file.endswith(\".docx\"):\n",
    "            shutil.move(os.path.join(path, file), os.path.join(path, \"word files\", file))\n",
    "\n",
    "def automate_sorting(interval_minutes):\n",
    "    while True:\n",
    "        sort_files()\n",
    "        print(\"Files sorted. Waiting for the next sorting operation...\")\n",
    "        time.sleep(interval_minutes * 60)  # Convert minutes to seconds\n",
    "\n",
    "if __name__ == \"__main__\":\n",
    "    interval_minutes = 30\n",
    "    automate_sorting(interval_minutes)\n"
   ]
  }
 ],
 "metadata": {
  "kernelspec": {
   "display_name": "Python 3",
   "language": "python",
   "name": "python3"
  },
  "language_info": {
   "codemirror_mode": {
    "name": "ipython",
    "version": 3
   },
   "file_extension": ".py",
   "mimetype": "text/x-python",
   "name": "python",
   "nbconvert_exporter": "python",
   "pygments_lexer": "ipython3",
   "version": "3.10.11"
  }
 },
 "nbformat": 4,
 "nbformat_minor": 2
}
